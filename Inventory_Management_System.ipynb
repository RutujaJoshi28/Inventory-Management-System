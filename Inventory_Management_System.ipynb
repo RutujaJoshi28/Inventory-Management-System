{
  "nbformat": 4,
  "nbformat_minor": 0,
  "metadata": {
    "colab": {
      "name": "Inventory Management System.ipynb",
      "provenance": [],
      "collapsed_sections": [],
      "toc_visible": true
    },
    "kernelspec": {
      "name": "python3",
      "display_name": "Python 3"
    },
    "language_info": {
      "name": "python"
    }
  },
  "cells": [
    {
      "cell_type": "markdown",
      "metadata": {
        "id": "ipOppA_4pb-q"
      },
      "source": [
        "#Creating an Inventory Management System with list of items"
      ]
    },
    {
      "cell_type": "code",
      "metadata": {
        "id": "6SuskubJzjBp"
      },
      "source": [
        "#Joshi Rutuja Vishnupant (TE COMP)\n",
        "#creating a dictionary named Prod_rec having 30 items and each item is having 5 attributes \n",
        "\n",
        "Prod_rec={10001:{\"name_of_product\":\"Chocolate\",\"quantity\":100,\"Exp_date\":\"Jan_2022\",\"Price\":200,\"Type_of_product\":\"Sweets\"},\n",
        "          10002:{\"name_of_product\":\"Ice-cream\",\"quantity\":150,\"Exp_date\":\"mar_2022\",\"Price\":400,\"Type_of_product\":\"Desert\"},\n",
        "          10003:{\"name_of_product\":\"Coke\",\"quantity\":50,\"Exp_date\":\"May_2022\",\"Price\":199,\"Type_of_product\":\"Drinks\"},\n",
        "          10004:{\"name_of_product\":\"Pizza\",\"quantity\":100,\"Exp_date\":\"Jan_2022\",\"Price\":799,\"Type_of_product\":\"Maincourse\"},\n",
        "          10005:{\"name_of_product\":\"Burger\",\"quantity\":14,\"Exp_date\":\"Jun_2022\",\"Price\":299,\"Type_of_product\":\"Snack\"},\n",
        "          10006:{\"name_of_product\":\"Bread\",\"quantity\":60,\"Exp_date\":\"Apr_2022\",\"Price\":50,\"Type_of_product\":\"Snack\"},\n",
        "          10007 :{\"name_of_product\":\"Sandwich\",\"quantity\":9,\"Exp_date\":\"oct_2022\",\"Price\":20,\"Type_of_product\":\"Snack\"},\n",
        "          10008:{\"name_of_product\":\"Biscuits\",\"quantity\":15,\"Exp_date\":\"nov_2022\",\"Price\":25,\"Type_of_product\":\"Snack\"},\n",
        "          10009:{\"name_of_product\":\"Jam\",\"quantity\":15,\"Exp_date\":\"Jan_2023\",\"Price\":99,\"Type_of_product\":\"Packed food\"},\n",
        "          10010:{\"name_of_product\":\"Sauce\",\"quantity\":15,\"Exp_date\":\"Jan_2021\",\"Price\":100,\"Type_of_product\":\"Packed food\"},\n",
        "          10011:{\"name_of_product\":\"Fruity\",\"quantity\":56,\"Exp_date\":\"Jan_2022\",\"Price\":50,\"Type_of_product\":\"Drink\"},\n",
        "          10012:{\"name_of_product\":\"brownies\",\"quantity\":34,\"Exp_date\":\"July_2022\",\"Price\":1000,\"Type_of_product\":\"Sweets\"},\n",
        "          10013:{\"name_of_product\":\"Milkshake\",\"quantity\":5,\"Exp_date\":\"Sep_2022\",\"Price\":70,\"Type_of_product\":\"Drink\"},\n",
        "          10014:{\"name_of_product\":\"Donuts\",\"quantity\":23,\"Exp_date\":\"Dec_2022\",\"Price\":500,\"Type_of_product\":\"Sweets\"},\n",
        "          10015:{\"name_of_product\":\"HotDog\",\"quantity\":123,\"Exp_date\":\"Mar_2022\",\"Price\":250,\"Type_of_product\":\"Snack\"},\n",
        "          10016:{\"name_of_product\":\"Pancakes\",\"quantity\":10,\"Exp_date\":\"Feb_2022\",\"Price\":300,\"Type_of_product\":\"Sweets\"},\n",
        "          10017:{\"name_of_product\":\"Noodles\",\"quantity\":89,\"Exp_date\":\"Mar_2022\",\"Price\":45,\"Type_of_product\":\"Fast food\"},\n",
        "          10018:{\"name_of_product\":\"Muffins\",\"quantity\":34,\"Exp_date\":\"Apr_2022\",\"Price\":70,\"Type_of_product\":\"Sweets\"},\n",
        "          10019:{\"name_of_product\":\"Soft drinks\",\"quantity\":17,\"Exp_date\":\"Jan_2022\",\"Price\":30,\"Type_of_product\":\"Drink\"},\n",
        "          10020:{\"name_of_product\":\"French fries\",\"quantity\":18,\"Exp_date\":\"Jun_2022\",\"Price\":199,\"Type_of_product\":\"Starter\"},\n",
        "          10021:{\"name_of_product\":\"Coco powder\",\"quantity\":80,\"Exp_date\":\"July_2022\",\"Price\":255,\"Type_of_product\":\"Packed food\"},\n",
        "          10022:{\"name_of_product\":\"Milk powder\",\"quantity\":180,\"Exp_date\":\"Jan_2023\",\"Price\":55,\"Type_of_product\":\"Packed food\"},\n",
        "          10023:{\"name_of_product\":\"Tea powder\",\"quantity\":70,\"Exp_date\":\"Mar_2023\",\"Price\":190,\"Type_of_product\":\"Packed food\"},\n",
        "          10024:{\"name_of_product\":\"Boost\",\"quantity\":105,\"Exp_date\":\"Feb_2022\",\"Price\":250,\"Type_of_product\":\"Packed food\"},\n",
        "          10025:{\"name_of_product\":\"Bourne vita\",\"quantity\":130,\"Exp_date\":\"Oct_2022\",\"Price\":200,\"Type_of_product\":\"Packed f,ood\"},\n",
        "          10026:{\"name_of_product\":\"Toast\",\"quantity\":11,\"Exp_date\":\"Nov_2022\",\"Price\":50,\"Type_of_product\":\"Snack\"},\n",
        "          10027:{\"name_of_product\":\"Aloo Bhujia\",\"quantity\":90,\"Exp_date\":\"Jan_2022\",\"Price\":10,\"Type_of_product\":\"Snack\"},\n",
        "          10028:{\"name_of_product\":\"Kurkure\",\"quantity\":45,\"Exp_date\":\"Nov_2022\",\"Price\":20,\"Type_of_product\":\"Snack\"},\n",
        "          10029:{\"name_of_product\":\"Chips\",\"quantity\":20,\"Exp_date\":\"Dec_2021\",\"Price\":30,\"Type_of_product\":\"Snack\"},\n",
        "          10030:{\"name_of_product\":\"Jelly\",\"quantity\":10,\"Exp_date\":\"Sep_2023\",\"Price\":20,\"Type_of_product\":\"Sweets\"}}"
      ],
      "execution_count": 1,
      "outputs": []
    },
    {
      "cell_type": "code",
      "metadata": {
        "colab": {
          "base_uri": "https://localhost:8080/"
        },
        "id": "LUptyC4Fx5qk",
        "outputId": "ef537d5c-7bb7-4ab8-cf8a-11c010d87920"
      },
      "source": [
        "Prod_rec"
      ],
      "execution_count": 2,
      "outputs": [
        {
          "output_type": "execute_result",
          "data": {
            "text/plain": [
              "{10001: {'Exp_date': 'Jan_2022',\n",
              "  'Price': 200,\n",
              "  'Type_of_product': 'Sweets',\n",
              "  'name_of_product': 'Chocolate',\n",
              "  'quantity': 100},\n",
              " 10002: {'Exp_date': 'mar_2022',\n",
              "  'Price': 400,\n",
              "  'Type_of_product': 'Desert',\n",
              "  'name_of_product': 'Ice-cream',\n",
              "  'quantity': 150},\n",
              " 10003: {'Exp_date': 'May_2022',\n",
              "  'Price': 199,\n",
              "  'Type_of_product': 'Drinks',\n",
              "  'name_of_product': 'Coke',\n",
              "  'quantity': 50},\n",
              " 10004: {'Exp_date': 'Jan_2022',\n",
              "  'Price': 799,\n",
              "  'Type_of_product': 'Maincourse',\n",
              "  'name_of_product': 'Pizza',\n",
              "  'quantity': 100},\n",
              " 10005: {'Exp_date': 'Jun_2022',\n",
              "  'Price': 299,\n",
              "  'Type_of_product': 'Snack',\n",
              "  'name_of_product': 'Burger',\n",
              "  'quantity': 14},\n",
              " 10006: {'Exp_date': 'Apr_2022',\n",
              "  'Price': 50,\n",
              "  'Type_of_product': 'Snack',\n",
              "  'name_of_product': 'Bread',\n",
              "  'quantity': 60},\n",
              " 10007: {'Exp_date': 'oct_2022',\n",
              "  'Price': 20,\n",
              "  'Type_of_product': 'Snack',\n",
              "  'name_of_product': 'Sandwich',\n",
              "  'quantity': 9},\n",
              " 10008: {'Exp_date': 'nov_2022',\n",
              "  'Price': 25,\n",
              "  'Type_of_product': 'Snack',\n",
              "  'name_of_product': 'Biscuits',\n",
              "  'quantity': 15},\n",
              " 10009: {'Exp_date': 'Jan_2023',\n",
              "  'Price': 99,\n",
              "  'Type_of_product': 'Packed food',\n",
              "  'name_of_product': 'Jam',\n",
              "  'quantity': 15},\n",
              " 10010: {'Exp_date': 'Jan_2021',\n",
              "  'Price': 100,\n",
              "  'Type_of_product': 'Packed food',\n",
              "  'name_of_product': 'Sauce',\n",
              "  'quantity': 15},\n",
              " 10011: {'Exp_date': 'Jan_2022',\n",
              "  'Price': 50,\n",
              "  'Type_of_product': 'Drink',\n",
              "  'name_of_product': 'Fruity',\n",
              "  'quantity': 56},\n",
              " 10012: {'Exp_date': 'July_2022',\n",
              "  'Price': 1000,\n",
              "  'Type_of_product': 'Sweets',\n",
              "  'name_of_product': 'brownies',\n",
              "  'quantity': 34},\n",
              " 10013: {'Exp_date': 'Sep_2022',\n",
              "  'Price': 70,\n",
              "  'Type_of_product': 'Drink',\n",
              "  'name_of_product': 'Milkshake',\n",
              "  'quantity': 5},\n",
              " 10014: {'Exp_date': 'Dec_2022',\n",
              "  'Price': 500,\n",
              "  'Type_of_product': 'Sweets',\n",
              "  'name_of_product': 'Donuts',\n",
              "  'quantity': 23},\n",
              " 10015: {'Exp_date': 'Mar_2022',\n",
              "  'Price': 250,\n",
              "  'Type_of_product': 'Snack',\n",
              "  'name_of_product': 'HotDog',\n",
              "  'quantity': 123},\n",
              " 10016: {'Exp_date': 'Feb_2022',\n",
              "  'Price': 300,\n",
              "  'Type_of_product': 'Sweets',\n",
              "  'name_of_product': 'Pancakes',\n",
              "  'quantity': 10},\n",
              " 10017: {'Exp_date': 'Mar_2022',\n",
              "  'Price': 45,\n",
              "  'Type_of_product': 'Fast food',\n",
              "  'name_of_product': 'Noodles',\n",
              "  'quantity': 89},\n",
              " 10018: {'Exp_date': 'Apr_2022',\n",
              "  'Price': 70,\n",
              "  'Type_of_product': 'Sweets',\n",
              "  'name_of_product': 'Muffins',\n",
              "  'quantity': 34},\n",
              " 10019: {'Exp_date': 'Jan_2022',\n",
              "  'Price': 30,\n",
              "  'Type_of_product': 'Drink',\n",
              "  'name_of_product': 'Soft drinks',\n",
              "  'quantity': 17},\n",
              " 10020: {'Exp_date': 'Jun_2022',\n",
              "  'Price': 199,\n",
              "  'Type_of_product': 'Starter',\n",
              "  'name_of_product': 'French fries',\n",
              "  'quantity': 18},\n",
              " 10021: {'Exp_date': 'July_2022',\n",
              "  'Price': 255,\n",
              "  'Type_of_product': 'Packed food',\n",
              "  'name_of_product': 'Coco powder',\n",
              "  'quantity': 80},\n",
              " 10022: {'Exp_date': 'Jan_2023',\n",
              "  'Price': 55,\n",
              "  'Type_of_product': 'Packed food',\n",
              "  'name_of_product': 'Milk powder',\n",
              "  'quantity': 180},\n",
              " 10023: {'Exp_date': 'Mar_2023',\n",
              "  'Price': 190,\n",
              "  'Type_of_product': 'Packed food',\n",
              "  'name_of_product': 'Tea powder',\n",
              "  'quantity': 70},\n",
              " 10024: {'Exp_date': 'Feb_2022',\n",
              "  'Price': 250,\n",
              "  'Type_of_product': 'Packed food',\n",
              "  'name_of_product': 'Boost',\n",
              "  'quantity': 105},\n",
              " 10025: {'Exp_date': 'Oct_2022',\n",
              "  'Price': 200,\n",
              "  'Type_of_product': 'Packed f,ood',\n",
              "  'name_of_product': 'Bourne vita',\n",
              "  'quantity': 130},\n",
              " 10026: {'Exp_date': 'Nov_2022',\n",
              "  'Price': 50,\n",
              "  'Type_of_product': 'Snack',\n",
              "  'name_of_product': 'Toast',\n",
              "  'quantity': 11},\n",
              " 10027: {'Exp_date': 'Jan_2022',\n",
              "  'Price': 10,\n",
              "  'Type_of_product': 'Snack',\n",
              "  'name_of_product': 'Aloo Bhujia',\n",
              "  'quantity': 90},\n",
              " 10028: {'Exp_date': 'Nov_2022',\n",
              "  'Price': 20,\n",
              "  'Type_of_product': 'Snack',\n",
              "  'name_of_product': 'Kurkure',\n",
              "  'quantity': 45},\n",
              " 10029: {'Exp_date': 'Dec_2021',\n",
              "  'Price': 30,\n",
              "  'Type_of_product': 'Snack',\n",
              "  'name_of_product': 'Chips',\n",
              "  'quantity': 20},\n",
              " 10030: {'Exp_date': 'Sep_2023',\n",
              "  'Price': 20,\n",
              "  'Type_of_product': 'Sweets',\n",
              "  'name_of_product': 'Jelly',\n",
              "  'quantity': 10}}"
            ]
          },
          "metadata": {},
          "execution_count": 2
        }
      ]
    },
    {
      "cell_type": "markdown",
      "metadata": {
        "id": "xletkvK1FoWc"
      },
      "source": [
        "##Converting this dictionary into json file i.e. record.json\n"
      ]
    },
    {
      "cell_type": "code",
      "metadata": {
        "id": "0_8wbQAezpd0"
      },
      "source": [
        "# first we have to import the json library\n",
        "\n",
        "import json\n"
      ],
      "execution_count": 3,
      "outputs": []
    },
    {
      "cell_type": "code",
      "metadata": {
        "id": "swMxRAYq2XD8"
      },
      "source": [
        "# json.dump function is used to convert the given dictionary into string format,\n",
        "# so that we can save this string format into a json file named as record.json\n",
        "\n",
        "js=json.dumps(Prod_rec)\n"
      ],
      "execution_count": 4,
      "outputs": []
    },
    {
      "cell_type": "code",
      "metadata": {
        "colab": {
          "base_uri": "https://localhost:8080/",
          "height": 191
        },
        "id": "Udi1PbiL2eIA",
        "outputId": "5ddf1969-e65c-46d8-a8b4-5c8010966afc"
      },
      "source": [
        "# to check what is there in js which is in string format\n",
        "\n",
        "js\n"
      ],
      "execution_count": 5,
      "outputs": [
        {
          "output_type": "execute_result",
          "data": {
            "application/vnd.google.colaboratory.intrinsic+json": {
              "type": "string"
            },
            "text/plain": [
              "'{\"10001\": {\"name_of_product\": \"Chocolate\", \"quantity\": 100, \"Exp_date\": \"Jan_2022\", \"Price\": 200, \"Type_of_product\": \"Sweets\"}, \"10002\": {\"name_of_product\": \"Ice-cream\", \"quantity\": 150, \"Exp_date\": \"mar_2022\", \"Price\": 400, \"Type_of_product\": \"Desert\"}, \"10003\": {\"name_of_product\": \"Coke\", \"quantity\": 50, \"Exp_date\": \"May_2022\", \"Price\": 199, \"Type_of_product\": \"Drinks\"}, \"10004\": {\"name_of_product\": \"Pizza\", \"quantity\": 100, \"Exp_date\": \"Jan_2022\", \"Price\": 799, \"Type_of_product\": \"Maincourse\"}, \"10005\": {\"name_of_product\": \"Burger\", \"quantity\": 14, \"Exp_date\": \"Jun_2022\", \"Price\": 299, \"Type_of_product\": \"Snack\"}, \"10006\": {\"name_of_product\": \"Bread\", \"quantity\": 60, \"Exp_date\": \"Apr_2022\", \"Price\": 50, \"Type_of_product\": \"Snack\"}, \"10007\": {\"name_of_product\": \"Sandwich\", \"quantity\": 9, \"Exp_date\": \"oct_2022\", \"Price\": 20, \"Type_of_product\": \"Snack\"}, \"10008\": {\"name_of_product\": \"Biscuits\", \"quantity\": 15, \"Exp_date\": \"nov_2022\", \"Price\": 25, \"Type_of_product\": \"Snack\"}, \"10009\": {\"name_of_product\": \"Jam\", \"quantity\": 15, \"Exp_date\": \"Jan_2023\", \"Price\": 99, \"Type_of_product\": \"Packed food\"}, \"10010\": {\"name_of_product\": \"Sauce\", \"quantity\": 15, \"Exp_date\": \"Jan_2021\", \"Price\": 100, \"Type_of_product\": \"Packed food\"}, \"10011\": {\"name_of_product\": \"Fruity\", \"quantity\": 56, \"Exp_date\": \"Jan_2022\", \"Price\": 50, \"Type_of_product\": \"Drink\"}, \"10012\": {\"name_of_product\": \"brownies\", \"quantity\": 34, \"Exp_date\": \"July_2022\", \"Price\": 1000, \"Type_of_product\": \"Sweets\"}, \"10013\": {\"name_of_product\": \"Milkshake\", \"quantity\": 5, \"Exp_date\": \"Sep_2022\", \"Price\": 70, \"Type_of_product\": \"Drink\"}, \"10014\": {\"name_of_product\": \"Donuts\", \"quantity\": 23, \"Exp_date\": \"Dec_2022\", \"Price\": 500, \"Type_of_product\": \"Sweets\"}, \"10015\": {\"name_of_product\": \"HotDog\", \"quantity\": 123, \"Exp_date\": \"Mar_2022\", \"Price\": 250, \"Type_of_product\": \"Snack\"}, \"10016\": {\"name_of_product\": \"Pancakes\", \"quantity\": 10, \"Exp_date\": \"Feb_2022\", \"Price\": 300, \"Type_of_product\": \"Sweets\"}, \"10017\": {\"name_of_product\": \"Noodles\", \"quantity\": 89, \"Exp_date\": \"Mar_2022\", \"Price\": 45, \"Type_of_product\": \"Fast food\"}, \"10018\": {\"name_of_product\": \"Muffins\", \"quantity\": 34, \"Exp_date\": \"Apr_2022\", \"Price\": 70, \"Type_of_product\": \"Sweets\"}, \"10019\": {\"name_of_product\": \"Soft drinks\", \"quantity\": 17, \"Exp_date\": \"Jan_2022\", \"Price\": 30, \"Type_of_product\": \"Drink\"}, \"10020\": {\"name_of_product\": \"French fries\", \"quantity\": 18, \"Exp_date\": \"Jun_2022\", \"Price\": 199, \"Type_of_product\": \"Starter\"}, \"10021\": {\"name_of_product\": \"Coco powder\", \"quantity\": 80, \"Exp_date\": \"July_2022\", \"Price\": 255, \"Type_of_product\": \"Packed food\"}, \"10022\": {\"name_of_product\": \"Milk powder\", \"quantity\": 180, \"Exp_date\": \"Jan_2023\", \"Price\": 55, \"Type_of_product\": \"Packed food\"}, \"10023\": {\"name_of_product\": \"Tea powder\", \"quantity\": 70, \"Exp_date\": \"Mar_2023\", \"Price\": 190, \"Type_of_product\": \"Packed food\"}, \"10024\": {\"name_of_product\": \"Boost\", \"quantity\": 105, \"Exp_date\": \"Feb_2022\", \"Price\": 250, \"Type_of_product\": \"Packed food\"}, \"10025\": {\"name_of_product\": \"Bourne vita\", \"quantity\": 130, \"Exp_date\": \"Oct_2022\", \"Price\": 200, \"Type_of_product\": \"Packed f,ood\"}, \"10026\": {\"name_of_product\": \"Toast\", \"quantity\": 11, \"Exp_date\": \"Nov_2022\", \"Price\": 50, \"Type_of_product\": \"Snack\"}, \"10027\": {\"name_of_product\": \"Aloo Bhujia\", \"quantity\": 90, \"Exp_date\": \"Jan_2022\", \"Price\": 10, \"Type_of_product\": \"Snack\"}, \"10028\": {\"name_of_product\": \"Kurkure\", \"quantity\": 45, \"Exp_date\": \"Nov_2022\", \"Price\": 20, \"Type_of_product\": \"Snack\"}, \"10029\": {\"name_of_product\": \"Chips\", \"quantity\": 20, \"Exp_date\": \"Dec_2021\", \"Price\": 30, \"Type_of_product\": \"Snack\"}, \"10030\": {\"name_of_product\": \"Jelly\", \"quantity\": 10, \"Exp_date\": \"Sep_2023\", \"Price\": 20, \"Type_of_product\": \"Sweets\"}}'"
            ]
          },
          "metadata": {},
          "execution_count": 5
        }
      ]
    },
    {
      "cell_type": "code",
      "metadata": {
        "id": "Py8K6TQF2e6I"
      },
      "source": [
        "# creating a dataframe object fd and opening the file record.json to write data into it\n",
        "\n",
        "fd=open(\"record.json\",'w')\n",
        "fd.write(js)\n",
        "fd.close()\n"
      ],
      "execution_count": 6,
      "outputs": []
    },
    {
      "cell_type": "code",
      "metadata": {
        "id": "aEzUxRAu2vFm"
      },
      "source": [
        "# To read the data from record.json opening it into read mode using function called fd.read()\n",
        "\n",
        "\n",
        "fd=open(\"record.json\",'r')\n",
        "txt=fd.read()\n",
        "fd.close()\n"
      ],
      "execution_count": 7,
      "outputs": []
    },
    {
      "cell_type": "code",
      "metadata": {
        "colab": {
          "base_uri": "https://localhost:8080/",
          "height": 191
        },
        "id": "sgTnDwKF6nd2",
        "outputId": "b5991c6a-546c-425f-d846-d6f4ed531dbc"
      },
      "source": [
        "# to read the data\n",
        "\n",
        "txt\n"
      ],
      "execution_count": 8,
      "outputs": [
        {
          "output_type": "execute_result",
          "data": {
            "application/vnd.google.colaboratory.intrinsic+json": {
              "type": "string"
            },
            "text/plain": [
              "'{\"10001\": {\"name_of_product\": \"Chocolate\", \"quantity\": 100, \"Exp_date\": \"Jan_2022\", \"Price\": 200, \"Type_of_product\": \"Sweets\"}, \"10002\": {\"name_of_product\": \"Ice-cream\", \"quantity\": 150, \"Exp_date\": \"mar_2022\", \"Price\": 400, \"Type_of_product\": \"Desert\"}, \"10003\": {\"name_of_product\": \"Coke\", \"quantity\": 50, \"Exp_date\": \"May_2022\", \"Price\": 199, \"Type_of_product\": \"Drinks\"}, \"10004\": {\"name_of_product\": \"Pizza\", \"quantity\": 100, \"Exp_date\": \"Jan_2022\", \"Price\": 799, \"Type_of_product\": \"Maincourse\"}, \"10005\": {\"name_of_product\": \"Burger\", \"quantity\": 14, \"Exp_date\": \"Jun_2022\", \"Price\": 299, \"Type_of_product\": \"Snack\"}, \"10006\": {\"name_of_product\": \"Bread\", \"quantity\": 60, \"Exp_date\": \"Apr_2022\", \"Price\": 50, \"Type_of_product\": \"Snack\"}, \"10007\": {\"name_of_product\": \"Sandwich\", \"quantity\": 9, \"Exp_date\": \"oct_2022\", \"Price\": 20, \"Type_of_product\": \"Snack\"}, \"10008\": {\"name_of_product\": \"Biscuits\", \"quantity\": 15, \"Exp_date\": \"nov_2022\", \"Price\": 25, \"Type_of_product\": \"Snack\"}, \"10009\": {\"name_of_product\": \"Jam\", \"quantity\": 15, \"Exp_date\": \"Jan_2023\", \"Price\": 99, \"Type_of_product\": \"Packed food\"}, \"10010\": {\"name_of_product\": \"Sauce\", \"quantity\": 15, \"Exp_date\": \"Jan_2021\", \"Price\": 100, \"Type_of_product\": \"Packed food\"}, \"10011\": {\"name_of_product\": \"Fruity\", \"quantity\": 56, \"Exp_date\": \"Jan_2022\", \"Price\": 50, \"Type_of_product\": \"Drink\"}, \"10012\": {\"name_of_product\": \"brownies\", \"quantity\": 34, \"Exp_date\": \"July_2022\", \"Price\": 1000, \"Type_of_product\": \"Sweets\"}, \"10013\": {\"name_of_product\": \"Milkshake\", \"quantity\": 5, \"Exp_date\": \"Sep_2022\", \"Price\": 70, \"Type_of_product\": \"Drink\"}, \"10014\": {\"name_of_product\": \"Donuts\", \"quantity\": 23, \"Exp_date\": \"Dec_2022\", \"Price\": 500, \"Type_of_product\": \"Sweets\"}, \"10015\": {\"name_of_product\": \"HotDog\", \"quantity\": 123, \"Exp_date\": \"Mar_2022\", \"Price\": 250, \"Type_of_product\": \"Snack\"}, \"10016\": {\"name_of_product\": \"Pancakes\", \"quantity\": 10, \"Exp_date\": \"Feb_2022\", \"Price\": 300, \"Type_of_product\": \"Sweets\"}, \"10017\": {\"name_of_product\": \"Noodles\", \"quantity\": 89, \"Exp_date\": \"Mar_2022\", \"Price\": 45, \"Type_of_product\": \"Fast food\"}, \"10018\": {\"name_of_product\": \"Muffins\", \"quantity\": 34, \"Exp_date\": \"Apr_2022\", \"Price\": 70, \"Type_of_product\": \"Sweets\"}, \"10019\": {\"name_of_product\": \"Soft drinks\", \"quantity\": 17, \"Exp_date\": \"Jan_2022\", \"Price\": 30, \"Type_of_product\": \"Drink\"}, \"10020\": {\"name_of_product\": \"French fries\", \"quantity\": 18, \"Exp_date\": \"Jun_2022\", \"Price\": 199, \"Type_of_product\": \"Starter\"}, \"10021\": {\"name_of_product\": \"Coco powder\", \"quantity\": 80, \"Exp_date\": \"July_2022\", \"Price\": 255, \"Type_of_product\": \"Packed food\"}, \"10022\": {\"name_of_product\": \"Milk powder\", \"quantity\": 180, \"Exp_date\": \"Jan_2023\", \"Price\": 55, \"Type_of_product\": \"Packed food\"}, \"10023\": {\"name_of_product\": \"Tea powder\", \"quantity\": 70, \"Exp_date\": \"Mar_2023\", \"Price\": 190, \"Type_of_product\": \"Packed food\"}, \"10024\": {\"name_of_product\": \"Boost\", \"quantity\": 105, \"Exp_date\": \"Feb_2022\", \"Price\": 250, \"Type_of_product\": \"Packed food\"}, \"10025\": {\"name_of_product\": \"Bourne vita\", \"quantity\": 130, \"Exp_date\": \"Oct_2022\", \"Price\": 200, \"Type_of_product\": \"Packed f,ood\"}, \"10026\": {\"name_of_product\": \"Toast\", \"quantity\": 11, \"Exp_date\": \"Nov_2022\", \"Price\": 50, \"Type_of_product\": \"Snack\"}, \"10027\": {\"name_of_product\": \"Aloo Bhujia\", \"quantity\": 90, \"Exp_date\": \"Jan_2022\", \"Price\": 10, \"Type_of_product\": \"Snack\"}, \"10028\": {\"name_of_product\": \"Kurkure\", \"quantity\": 45, \"Exp_date\": \"Nov_2022\", \"Price\": 20, \"Type_of_product\": \"Snack\"}, \"10029\": {\"name_of_product\": \"Chips\", \"quantity\": 20, \"Exp_date\": \"Dec_2021\", \"Price\": 30, \"Type_of_product\": \"Snack\"}, \"10030\": {\"name_of_product\": \"Jelly\", \"quantity\": 10, \"Exp_date\": \"Sep_2023\", \"Price\": 20, \"Type_of_product\": \"Sweets\"}}'"
            ]
          },
          "metadata": {},
          "execution_count": 8
        }
      ]
    },
    {
      "cell_type": "markdown",
      "metadata": {
        "id": "ymsqytwIEEmS"
      },
      "source": [
        "#Adding a new item to inventory"
      ]
    },
    {
      "cell_type": "markdown",
      "metadata": {
        "id": "aN47T3viD-XU"
      },
      "source": [
        ""
      ]
    },
    {
      "cell_type": "code",
      "metadata": {
        "colab": {
          "base_uri": "https://localhost:8080/"
        },
        "id": "KtJhhK0P_01m",
        "outputId": "2d2e2a7a-78ae-4839-b83d-9193a02f612d"
      },
      "source": [
        "# asking the user the item details that he/she wants to enter\n",
        "\n",
        "prod_id=input(\"Enter product id: \")\n",
        "name=input(\"Enter name of the product: \")\n",
        "quant=int(input(\"Enter the quantity of the product: \"))\n",
        "exp=input(\"Enter the expiry date of the product: \")\n",
        "pr=int(input(\"Enter the price of the product: \"))\n",
        "type=input(\"Enter the type of the product: \")\n",
        "\n",
        "#updating the original product record dictionary with a new entry having product id as prod_id\n",
        "\n",
        "Prod_rec[prod_id]={'name_of_product':name,'quantity':quant,'Exp_date':exp,'Price':pr,'Type_of_product':type}\n",
        "\n",
        "#upadating the values in json file (record.json) as new item is added into the inventory\n",
        "\n",
        "js=json.dumps(Prod_rec)\n",
        "fd=open(\"record.json\",\"w\")\n",
        "fd.write(js)\n",
        "fd.close()\n"
      ],
      "execution_count": 9,
      "outputs": [
        {
          "name": "stdout",
          "output_type": "stream",
          "text": [
            "Enter product id: 10031\n",
            "Enter name of the product: Appy\n",
            "Enter the quantity of the product: 20\n",
            "Enter the expiry date of the product: nov_2021\n",
            "Enter the price of the product: 100\n",
            "Enter the type of the product: Drink\n"
          ]
        }
      ]
    },
    {
      "cell_type": "code",
      "metadata": {
        "colab": {
          "base_uri": "https://localhost:8080/"
        },
        "id": "rSGDhEsnBeOZ",
        "outputId": "c8094ddf-dd65-4de9-e0f0-f53c9377cd93"
      },
      "source": [
        "print(\"New item is added into the inventory........\")\n",
        "Prod_rec[prod_id]"
      ],
      "execution_count": 10,
      "outputs": [
        {
          "output_type": "stream",
          "name": "stdout",
          "text": [
            "New item is added into the inventory........\n"
          ]
        },
        {
          "output_type": "execute_result",
          "data": {
            "text/plain": [
              "{'Exp_date': 'nov_2021',\n",
              " 'Price': 100,\n",
              " 'Type_of_product': 'Drink',\n",
              " 'name_of_product': 'Appy',\n",
              " 'quantity': 20}"
            ]
          },
          "metadata": {},
          "execution_count": 10
        }
      ]
    },
    {
      "cell_type": "markdown",
      "metadata": {
        "id": "nsorI6XbY8gu"
      },
      "source": [
        "#Purchase"
      ]
    },
    {
      "cell_type": "code",
      "metadata": {
        "id": "ZZU-2pV1GTpE",
        "colab": {
          "base_uri": "https://localhost:8080/"
        },
        "outputId": "8f4fb2ad-2188-46f8-8b20-76321fb80168"
      },
      "source": [
        "#Asking the user to enter the product id and product quantity\n",
        "\n",
        "ui_prod=int(input(\"Enter product id: \"))\n",
        "ui_quant=int(input(\"Enter product quantity: \"))\n",
        "\n",
        "# checking whether there is a sufficient amount of items are available in the inventory or not,\n",
        "# By using the simple if else condition\n",
        "\n",
        "\n",
        "if (Prod_rec[ui_prod]['quantity']<ui_quant):\n",
        "    print(\"We dont have sufficient amount of quantity in our inventory....\")\n",
        "else:\n",
        "  print(\"We have sufficient amount of quantity in our inventory....\")\n",
        "\n",
        "# Printing all the details and final billing amount\n",
        "\n",
        "print(\"---------------********Details**********-----------------\")\n",
        "print(\"Name of Product is: \",Prod_rec[ui_prod][\"name_of_product\"])\n",
        "print(\"Price of Product is: \",Prod_rec[ui_prod][\"Price\"])\n",
        "print(\"Billing amount is: \",Prod_rec[ui_prod][\"Price\"]*ui_quant)\n",
        "\n",
        "\n",
        "# Deducting the amount of items from the inventory\n",
        "\n",
        "print(\"----------New updated value of quantity in inventory---------\")\n",
        "Prod_rec[ui_prod]['quantity']=Prod_rec[ui_prod]['quantity']-ui_quant\n",
        "print(Prod_rec[ui_prod])\n",
        "\n"
      ],
      "execution_count": 11,
      "outputs": [
        {
          "output_type": "stream",
          "name": "stdout",
          "text": [
            "Enter product id: 10021\n",
            "Enter product quantity: 4\n",
            "We have sufficient amount of quantity in our inventory....\n",
            "---------------********Details**********-----------------\n",
            "Name of Product is:  Coco powder\n",
            "Price of Product is:  255\n",
            "Billing amount is:  1020\n",
            "----------New updated value of quantity in inventory---------\n",
            "{'name_of_product': 'Coco powder', 'quantity': 76, 'Exp_date': 'July_2022', 'Price': 255, 'Type_of_product': 'Packed food'}\n"
          ]
        }
      ]
    },
    {
      "cell_type": "markdown",
      "metadata": {
        "id": "hdeGaE3Kfvw1"
      },
      "source": [
        "#Updating inventory after purchase\n"
      ]
    },
    {
      "cell_type": "code",
      "metadata": {
        "id": "DmDsNB9-ZWeL"
      },
      "source": [
        "# reflecting the updated values in record.json \n",
        "\n",
        "js=json.dumps(Prod_rec)"
      ],
      "execution_count": 12,
      "outputs": []
    },
    {
      "cell_type": "code",
      "metadata": {
        "id": "aHydV2lBgB3B"
      },
      "source": [
        "fd=open(\"record.json\",'w')\n",
        "fd.write(js)\n",
        "fd.close()"
      ],
      "execution_count": 13,
      "outputs": []
    },
    {
      "cell_type": "markdown",
      "metadata": {
        "id": "WNZICX6KjlhH"
      },
      "source": [
        "# Sales JSON\n"
      ]
    },
    {
      "cell_type": "code",
      "metadata": {
        "id": "9kCcOa9BgLrT"
      },
      "source": [
        "# creating a new dictionary sales which will contain the product id, quantity and final billing amount\n",
        "\n",
        "sales = {1 : {'prod' : ui_prod, 'quantity' : ui_quant, 'Price': Prod_rec[ui_prod]['Price'] * ui_quant},\n",
        "         2 : {'prod' : ui_prod, 'quantity' : ui_quant, 'Price': Prod_rec[ui_prod]['Price'] * ui_quant},\n",
        "         3 : {'prod' : ui_prod, 'quantity' : ui_quant, 'Price': Prod_rec[ui_prod]['Price'] * ui_quant}}"
      ],
      "execution_count": 14,
      "outputs": []
    },
    {
      "cell_type": "code",
      "metadata": {
        "id": "7FT_lrbKjtFA"
      },
      "source": [
        "# converting the sales dictionary into a json file called sales.json\n",
        "\n",
        "sale = json.dumps(sales)\n"
      ],
      "execution_count": 15,
      "outputs": []
    },
    {
      "cell_type": "code",
      "metadata": {
        "id": "G9b9vkO0kezQ"
      },
      "source": [
        "# writting into the file\n",
        "\n",
        "fd=open(\"sales.json\",\"w\")\n",
        "fd.write(sale)\n",
        "fd.close()\n"
      ],
      "execution_count": 16,
      "outputs": []
    },
    {
      "cell_type": "code",
      "metadata": {
        "colab": {
          "base_uri": "https://localhost:8080/",
          "height": 53
        },
        "id": "VEQspfKVkznB",
        "outputId": "a235f3b7-04d2-42f2-fc5a-64c1c635d95d"
      },
      "source": [
        "# reading the file to check whether data is present or not\n",
        "\n",
        "fd=open(\"sales.json\",\"r\")\n",
        "r=fd.read()\n",
        "r\n"
      ],
      "execution_count": 17,
      "outputs": [
        {
          "output_type": "execute_result",
          "data": {
            "application/vnd.google.colaboratory.intrinsic+json": {
              "type": "string"
            },
            "text/plain": [
              "'{\"1\": {\"prod\": 10021, \"quantity\": 4, \"Price\": 1020}, \"2\": {\"prod\": 10021, \"quantity\": 4, \"Price\": 1020}, \"3\": {\"prod\": 10021, \"quantity\": 4, \"Price\": 1020}}'"
            ]
          },
          "metadata": {},
          "execution_count": 17
        }
      ]
    },
    {
      "cell_type": "code",
      "metadata": {
        "id": "EZHPPI9XlP5l"
      },
      "source": [
        ""
      ],
      "execution_count": null,
      "outputs": []
    }
  ]
}